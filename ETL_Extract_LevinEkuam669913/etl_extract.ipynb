{
 "cells": [
  {
   "cell_type": "code",
   "execution_count": 7,
   "id": "b73954a2",
   "metadata": {},
   "outputs": [
    {
     "name": "stdout",
     "output_type": "stream",
     "text": [
      "Dataset generated and saved as custom_data.csv\n"
     ]
    }
   ],
   "source": [
    "import pandas as pd\n",
    "from faker import Faker\n",
    "import random\n",
    "from datetime import datetime, timedelta\n",
    "\n",
    "# Initialize Faker\n",
    "fake = Faker()\n",
    "\n",
    "# Generate 100 records\n",
    "data = []\n",
    "start_date = datetime(2025, 1, 1)\n",
    "for i in range(100):\n",
    "    record = {\n",
    "        'transaction_id': i + 1,\n",
    "        'date': start_date + timedelta(days=random.randint(0, 90)),\n",
    "        'product': fake.word().capitalize() + \" \" + random.choice(['Laptop', 'Phone', 'Tablet']),\n",
    "        'quantity': random.randint(1, 10),\n",
    "        'price': round(random.uniform(100, 2000), 2),\n",
    "        'customer_name': fake.name()\n",
    "    }\n",
    "    data.append(record)\n",
    "\n",
    "# Create DataFrame and save to CSV\n",
    "df = pd.DataFrame(data)\n",
    "df.to_csv('custom_data.csv', index=False)\n",
    "print(\"Dataset generated and saved as custom_data.csv\")"
   ]
  },
  {
   "cell_type": "code",
   "execution_count": 10,
   "id": "562d4e62",
   "metadata": {},
   "outputs": [
    {
     "name": "stdout",
     "output_type": "stream",
     "text": [
      "Index(['transaction_id', 'last_updated', 'product', 'quantity', 'price',\n",
      "       'customer_name'],\n",
      "      dtype='object')\n"
     ]
    }
   ],
   "source": [
    "# Rename the 'date' column to 'last_updated'\n",
    "df = df.rename(columns={'date': 'last_updated'})\n",
    "\n",
    "# Save the updated dataset back to the CSV file\n",
    "df.to_csv(dataset_path, index=False)\n",
    "print(df.columns)"
   ]
  },
  {
   "cell_type": "code",
   "execution_count": 11,
   "id": "4cb30e54",
   "metadata": {},
   "outputs": [
    {
     "name": "stdout",
     "output_type": "stream",
     "text": [
      "Pulled 100 rows via full extraction.\n"
     ]
    },
    {
     "data": {
      "text/html": [
       "<div>\n",
       "<style scoped>\n",
       "    .dataframe tbody tr th:only-of-type {\n",
       "        vertical-align: middle;\n",
       "    }\n",
       "\n",
       "    .dataframe tbody tr th {\n",
       "        vertical-align: top;\n",
       "    }\n",
       "\n",
       "    .dataframe thead th {\n",
       "        text-align: right;\n",
       "    }\n",
       "</style>\n",
       "<table border=\"1\" class=\"dataframe\">\n",
       "  <thead>\n",
       "    <tr style=\"text-align: right;\">\n",
       "      <th></th>\n",
       "      <th>transaction_id</th>\n",
       "      <th>last_updated</th>\n",
       "      <th>product</th>\n",
       "      <th>quantity</th>\n",
       "      <th>price</th>\n",
       "      <th>customer_name</th>\n",
       "    </tr>\n",
       "  </thead>\n",
       "  <tbody>\n",
       "    <tr>\n",
       "      <th>0</th>\n",
       "      <td>1</td>\n",
       "      <td>2025-01-08</td>\n",
       "      <td>Population Laptop</td>\n",
       "      <td>3</td>\n",
       "      <td>892.87</td>\n",
       "      <td>Leah Mcfarland</td>\n",
       "    </tr>\n",
       "    <tr>\n",
       "      <th>1</th>\n",
       "      <td>2</td>\n",
       "      <td>2025-03-13</td>\n",
       "      <td>Face Phone</td>\n",
       "      <td>3</td>\n",
       "      <td>1374.01</td>\n",
       "      <td>Christopher Frazier</td>\n",
       "    </tr>\n",
       "    <tr>\n",
       "      <th>2</th>\n",
       "      <td>3</td>\n",
       "      <td>2025-02-23</td>\n",
       "      <td>Whatever Phone</td>\n",
       "      <td>3</td>\n",
       "      <td>169.83</td>\n",
       "      <td>David Jackson Jr.</td>\n",
       "    </tr>\n",
       "    <tr>\n",
       "      <th>3</th>\n",
       "      <td>4</td>\n",
       "      <td>2025-03-31</td>\n",
       "      <td>Blue Laptop</td>\n",
       "      <td>3</td>\n",
       "      <td>1567.63</td>\n",
       "      <td>Lisa Massey</td>\n",
       "    </tr>\n",
       "    <tr>\n",
       "      <th>4</th>\n",
       "      <td>5</td>\n",
       "      <td>2025-03-01</td>\n",
       "      <td>Card Tablet</td>\n",
       "      <td>1</td>\n",
       "      <td>216.97</td>\n",
       "      <td>Jeremiah Poole</td>\n",
       "    </tr>\n",
       "  </tbody>\n",
       "</table>\n",
       "</div>"
      ],
      "text/plain": [
       "   transaction_id last_updated            product  quantity    price  \\\n",
       "0               1   2025-01-08  Population Laptop         3   892.87   \n",
       "1               2   2025-03-13         Face Phone         3  1374.01   \n",
       "2               3   2025-02-23     Whatever Phone         3   169.83   \n",
       "3               4   2025-03-31        Blue Laptop         3  1567.63   \n",
       "4               5   2025-03-01        Card Tablet         1   216.97   \n",
       "\n",
       "         customer_name  \n",
       "0       Leah Mcfarland  \n",
       "1  Christopher Frazier  \n",
       "2    David Jackson Jr.  \n",
       "3          Lisa Massey  \n",
       "4       Jeremiah Poole  "
      ]
     },
     "execution_count": 11,
     "metadata": {},
     "output_type": "execute_result"
    }
   ],
   "source": [
    "# FULL EXTRACTION\n",
    "df_full = pd.read_csv(\"custom_data.csv\", parse_dates=[\"last_updated\"])\n",
    "print(f\"Pulled {len(df_full)} rows via full extraction.\")\n",
    "df_full.head()"
   ]
  },
  {
   "cell_type": "code",
   "execution_count": 20,
   "id": "6954a197",
   "metadata": {},
   "outputs": [],
   "source": [
    "# Set initial last extraction time (e.g., halfway through the data range)\n",
    "with open(\"last_extraction.txt\", \"w\") as f:\n",
    "    f.write(\"2025-02-28 10:03:00\") "
   ]
  },
  {
   "cell_type": "code",
   "execution_count": 21,
   "id": "a810043d",
   "metadata": {},
   "outputs": [
    {
     "name": "stdout",
     "output_type": "stream",
     "text": [
      "Pulled 34 new/updated rows since 2025-02-28 10:03:00.\n"
     ]
    },
    {
     "data": {
      "text/html": [
       "<div>\n",
       "<style scoped>\n",
       "    .dataframe tbody tr th:only-of-type {\n",
       "        vertical-align: middle;\n",
       "    }\n",
       "\n",
       "    .dataframe tbody tr th {\n",
       "        vertical-align: top;\n",
       "    }\n",
       "\n",
       "    .dataframe thead th {\n",
       "        text-align: right;\n",
       "    }\n",
       "</style>\n",
       "<table border=\"1\" class=\"dataframe\">\n",
       "  <thead>\n",
       "    <tr style=\"text-align: right;\">\n",
       "      <th></th>\n",
       "      <th>transaction_id</th>\n",
       "      <th>last_updated</th>\n",
       "      <th>product</th>\n",
       "      <th>quantity</th>\n",
       "      <th>price</th>\n",
       "      <th>customer_name</th>\n",
       "    </tr>\n",
       "  </thead>\n",
       "  <tbody>\n",
       "    <tr>\n",
       "      <th>1</th>\n",
       "      <td>2</td>\n",
       "      <td>2025-03-13</td>\n",
       "      <td>Face Phone</td>\n",
       "      <td>3</td>\n",
       "      <td>1374.01</td>\n",
       "      <td>Christopher Frazier</td>\n",
       "    </tr>\n",
       "    <tr>\n",
       "      <th>3</th>\n",
       "      <td>4</td>\n",
       "      <td>2025-03-31</td>\n",
       "      <td>Blue Laptop</td>\n",
       "      <td>3</td>\n",
       "      <td>1567.63</td>\n",
       "      <td>Lisa Massey</td>\n",
       "    </tr>\n",
       "    <tr>\n",
       "      <th>4</th>\n",
       "      <td>5</td>\n",
       "      <td>2025-03-01</td>\n",
       "      <td>Card Tablet</td>\n",
       "      <td>1</td>\n",
       "      <td>216.97</td>\n",
       "      <td>Jeremiah Poole</td>\n",
       "    </tr>\n",
       "    <tr>\n",
       "      <th>8</th>\n",
       "      <td>9</td>\n",
       "      <td>2025-03-27</td>\n",
       "      <td>Five Phone</td>\n",
       "      <td>5</td>\n",
       "      <td>1502.16</td>\n",
       "      <td>Mary Williams</td>\n",
       "    </tr>\n",
       "    <tr>\n",
       "      <th>13</th>\n",
       "      <td>14</td>\n",
       "      <td>2025-03-31</td>\n",
       "      <td>Protect Tablet</td>\n",
       "      <td>10</td>\n",
       "      <td>1720.48</td>\n",
       "      <td>Natalie Webster</td>\n",
       "    </tr>\n",
       "  </tbody>\n",
       "</table>\n",
       "</div>"
      ],
      "text/plain": [
       "    transaction_id last_updated         product  quantity    price  \\\n",
       "1                2   2025-03-13      Face Phone         3  1374.01   \n",
       "3                4   2025-03-31     Blue Laptop         3  1567.63   \n",
       "4                5   2025-03-01     Card Tablet         1   216.97   \n",
       "8                9   2025-03-27      Five Phone         5  1502.16   \n",
       "13              14   2025-03-31  Protect Tablet        10  1720.48   \n",
       "\n",
       "          customer_name  \n",
       "1   Christopher Frazier  \n",
       "3           Lisa Massey  \n",
       "4        Jeremiah Poole  \n",
       "8         Mary Williams  \n",
       "13      Natalie Webster  "
      ]
     },
     "execution_count": 21,
     "metadata": {},
     "output_type": "execute_result"
    }
   ],
   "source": [
    "# INCREMENTAL EXTRACTION\n",
    "with open(\"last_extraction.txt\", \"r\") as f:\n",
    "    last_extraction = f.read().strip()\n",
    "df = pd.read_csv(\"custom_data.csv\", parse_dates=[\"last_updated\"])\n",
    "last_extraction_time = pd.to_datetime(last_extraction)\n",
    "df_incremental = df[df['last_updated'] > last_extraction_time]\n",
    "print(f\"Pulled {len(df_incremental)} new/updated rows since {last_extraction}.\")\n",
    "df_incremental.head()"
   ]
  },
  {
   "cell_type": "code",
   "execution_count": 22,
   "id": "d4658833",
   "metadata": {},
   "outputs": [
    {
     "name": "stdout",
     "output_type": "stream",
     "text": [
      "Updated last_extraction.txt to 2025-04-01 00:00:00\n"
     ]
    }
   ],
   "source": [
    "# Get the most recent update\n",
    "new_checkpoint = df['last_updated'].max()\n",
    "# Save it\n",
    "with open(\"last_extraction.txt\", \"w\") as f:\n",
    "    f.write(new_checkpoint.isoformat())\n",
    "print(f\"Updated last_extraction.txt to {new_checkpoint}\")"
   ]
  }
 ],
 "metadata": {
  "kernelspec": {
   "display_name": "Python 3",
   "language": "python",
   "name": "python3"
  },
  "language_info": {
   "codemirror_mode": {
    "name": "ipython",
    "version": 3
   },
   "file_extension": ".py",
   "mimetype": "text/x-python",
   "name": "python",
   "nbconvert_exporter": "python",
   "pygments_lexer": "ipython3",
   "version": "3.12.10"
  }
 },
 "nbformat": 4,
 "nbformat_minor": 5
}
